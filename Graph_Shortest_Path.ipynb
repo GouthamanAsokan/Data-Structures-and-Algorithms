{
  "nbformat": 4,
  "nbformat_minor": 0,
  "metadata": {
    "colab": {
      "name": "Graph_Shortest_Path.ipynb",
      "provenance": []
    },
    "kernelspec": {
      "name": "python3",
      "display_name": "Python 3"
    }
  },
  "cells": [
    {
      "cell_type": "code",
      "metadata": {
        "id": "YqytkD30e_Hy",
        "colab_type": "code",
        "colab": {}
      },
      "source": [
        "#Dijkstra Algorithm\n",
        "import sys\n",
        "import heapq\n",
        "\n",
        "class Edge:\n",
        "  def __init__(self,weight,start_vertex,target_vertex):\n",
        "    self.weight=weight\n",
        "    self.start_vertex=start_vertex\n",
        "    self.target_vertex=target_vertex\n",
        "\n",
        "class Node:\n",
        "  def __init__(self,name):\n",
        "    self.name=name\n",
        "    self.visited=False\n",
        "    self.predecessor=None\n",
        "    self.adjencencies_list=[]\n",
        "    self.min_distance=sys.maxsize\n",
        "  def __cmp__(self,other_vertex):\n",
        "    return self.cmp(self.min_distance,other_vertex.min_distance)\n",
        "  def  __lt__(self,other):\n",
        "    self_priority = self.min_distance\n",
        "    other_priority = other.min_distance\n",
        "    return self_priority < other_priority\n",
        "\n",
        "class Algorithm:\n",
        "  def calculate_shortest_path(self,vertex_list,start_vertex):\n",
        "    q = []\n",
        "    start_vertex.min_distance = 0\n",
        "    heapq.heappush(q, start_vertex)\n",
        "\n",
        "    while len(q) > 0:\n",
        "      actual_vertex = heapq.heappop(q)\n",
        "      for edge in actual_vertex.adjencencies_list:\n",
        "        u = edge.start_vertex\n",
        "        v = edge.target_vertex\n",
        "        new_distance = u.min_distance + edge.weight\n",
        "        if new_distance < v.min_distance:\n",
        "          v.predecessor = u\n",
        "          v.min_distance = new_distance\n",
        "          heapq.heappush(q, v)\n",
        "\n",
        "\n",
        "  def get_shortest_path_to(self, target_vertex):\n",
        "      print(f'Shortest path to vertex is: {target_vertex.min_distance}')\n",
        "      node = target_vertex\n",
        "      while node is not None:\n",
        "        print('%s ' % node.name)\n",
        "        node = node.predecessor\n"
      ],
      "execution_count": 0,
      "outputs": []
    },
    {
      "cell_type": "code",
      "metadata": {
        "id": "EkkcydKfiRBO",
        "colab_type": "code",
        "colab": {}
      },
      "source": [
        "node1 = Node('A')\n",
        "node2 = Node('B')\n",
        "node3 = Node('C')\n",
        "node4 = Node('D')\n",
        "node5 = Node('E')\n",
        "node6 = Node('F')\n",
        "node7 = Node('G')\n",
        "node8 = Node('H')"
      ],
      "execution_count": 0,
      "outputs": []
    },
    {
      "cell_type": "code",
      "metadata": {
        "id": "8exTXkQ1iYcM",
        "colab_type": "code",
        "colab": {}
      },
      "source": [
        "edge1 = Edge(5, node1, node2)\n",
        "edge2 = Edge(8, node1, node8)\n",
        "edge3 = Edge(9, node1, node5)\n",
        "edge4 = Edge(15, node2, node4)\n",
        "edge5 = Edge(12, node2, node3)\n",
        "edge6 = Edge(4, node2, node8)\n",
        "edge7 = Edge(7, node8, node3)\n",
        "edge8 = Edge(6, node8, node6)\n",
        "edge9 = Edge(5, node5, node8)\n",
        "edge10 = Edge(4, node5, node6)\n",
        "edge11 = Edge(20,node5, node7)\n",
        "edge12 = Edge(1, node6, node3)\n",
        "edge13 = Edge(13, node6, node7)\n",
        "edge14 = Edge(3, node3, node4)\n",
        "edge15 = Edge(11, node3, node7)\n",
        "edge16 = Edge(9, node4, node7)"
      ],
      "execution_count": 0,
      "outputs": []
    },
    {
      "cell_type": "code",
      "metadata": {
        "id": "UHPqgmwuidjp",
        "colab_type": "code",
        "colab": {}
      },
      "source": [
        "node1.adjencencies_list.append(edge1)\n",
        "node1.adjencencies_list.append(edge2)\n",
        "node1.adjencencies_list.append(edge3)\n",
        "node2.adjencencies_list.append(edge4)\n",
        "node2.adjencencies_list.append(edge5)\n",
        "node2.adjencencies_list.append(edge6)\n",
        "node8.adjencencies_list.append(edge7)\n",
        "node8.adjencencies_list.append(edge8)\n",
        "node5.adjencencies_list.append(edge9)\n",
        "node5.adjencencies_list.append(edge10)\n",
        "node5.adjencencies_list.append(edge11)\n",
        "node6.adjencencies_list.append(edge12)\n",
        "node6.adjencencies_list.append(edge13)\n",
        "node3.adjencencies_list.append(edge14)\n",
        "node3.adjencencies_list.append(edge15)\n",
        "node4.adjencencies_list.append(edge16)"
      ],
      "execution_count": 0,
      "outputs": []
    },
    {
      "cell_type": "code",
      "metadata": {
        "id": "8QeYNUVlinDU",
        "colab_type": "code",
        "colab": {}
      },
      "source": [
        "vertex_list = (node1, node2, node3, node4, node5, node6, node7, node8)"
      ],
      "execution_count": 0,
      "outputs": []
    },
    {
      "cell_type": "code",
      "metadata": {
        "id": "ivi0VxT0irBu",
        "colab_type": "code",
        "colab": {
          "base_uri": "https://localhost:8080/",
          "height": 119
        },
        "outputId": "3e7df6cd-50e7-4907-af24-dd2da9e0de75"
      },
      "source": [
        "algorithm = Algorithm()\n",
        "algorithm.calculate_shortest_path(vertex_list, node1)\n",
        "algorithm.get_shortest_path_to(node4)"
      ],
      "execution_count": 8,
      "outputs": [
        {
          "output_type": "stream",
          "text": [
            "Shortest path to vertex is: 17\n",
            "D \n",
            "C \n",
            "F \n",
            "E \n",
            "A \n"
          ],
          "name": "stdout"
        }
      ]
    }
  ]
}