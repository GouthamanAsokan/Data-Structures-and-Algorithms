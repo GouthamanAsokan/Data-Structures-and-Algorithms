{
  "nbformat": 4,
  "nbformat_minor": 0,
  "metadata": {
    "colab": {
      "name": "Associative_Arrays.ipynb",
      "provenance": []
    },
    "kernelspec": {
      "name": "python3",
      "display_name": "Python 3"
    }
  },
  "cells": [
    {
      "cell_type": "code",
      "metadata": {
        "id": "Z1N4o_z17obf",
        "colab_type": "code",
        "colab": {}
      },
      "source": [
        "class HashTable:\n",
        "  def __init__(self):\n",
        "    self.size=10\n",
        "    self.keys=[None]*self.size\n",
        "    self.values=[None]*self.size\n",
        "\n",
        "  def put(self,key,data):\n",
        "    index=self.hashfunction(key)\n",
        "    while self.keys[index] is not None:\n",
        "      if self.keys[index]==key:\n",
        "        self.values[index]==data\n",
        "        return\n",
        "\n",
        "      index = (index+1) % self.size\n",
        "    self.keys[index]=key\n",
        "    self.values[index]=data\n",
        "\n",
        "  def hashfunction(self,key):\n",
        "    sum=0\n",
        "    for pos in range(len(key)):\n",
        "      sum=sum+ord(key[pos])\n",
        "    return sum % self.size\n",
        "\n",
        "  def get(self,key):\n",
        "    index = self.hashfunction(key)\n",
        "    while self.keys[index] is not None:\n",
        "      if self.keys[index] == key:\n",
        "        return self.values[index]\n",
        "      index = (index+1) % self.size\n",
        "    return None"
      ],
      "execution_count": 0,
      "outputs": []
    },
    {
      "cell_type": "code",
      "metadata": {
        "id": "0AWCsoH197Yt",
        "colab_type": "code",
        "colab": {}
      },
      "source": [
        "table = HashTable()"
      ],
      "execution_count": 0,
      "outputs": []
    },
    {
      "cell_type": "code",
      "metadata": {
        "id": "MN7vKeOH9_D2",
        "colab_type": "code",
        "colab": {}
      },
      "source": [
        "table.put(\"apple\", 10)"
      ],
      "execution_count": 0,
      "outputs": []
    },
    {
      "cell_type": "code",
      "metadata": {
        "id": "pt9Lkfyr-DHF",
        "colab_type": "code",
        "colab": {}
      },
      "source": [
        "table.put(\"orange\", 20)"
      ],
      "execution_count": 0,
      "outputs": []
    },
    {
      "cell_type": "code",
      "metadata": {
        "id": "1La_E_L4-EX0",
        "colab_type": "code",
        "colab": {}
      },
      "source": [
        "table.put(\"car\", 30)"
      ],
      "execution_count": 0,
      "outputs": []
    },
    {
      "cell_type": "code",
      "metadata": {
        "id": "3GoC_1Rv-J80",
        "colab_type": "code",
        "colab": {
          "base_uri": "https://localhost:8080/",
          "height": 34
        },
        "outputId": "629144e8-47e1-4d6a-cd68-46b31dcbf027"
      },
      "source": [
        "print(table.get(\"orange\"))"
      ],
      "execution_count": 6,
      "outputs": [
        {
          "output_type": "stream",
          "text": [
            "20\n"
          ],
          "name": "stdout"
        }
      ]
    }
  ]
}