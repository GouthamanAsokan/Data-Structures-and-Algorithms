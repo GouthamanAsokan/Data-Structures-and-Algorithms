{
  "nbformat": 4,
  "nbformat_minor": 0,
  "metadata": {
    "colab": {
      "name": "Merge_Sort.ipynb",
      "provenance": []
    },
    "kernelspec": {
      "name": "python3",
      "display_name": "Python 3"
    }
  },
  "cells": [
    {
      "cell_type": "code",
      "metadata": {
        "id": "138Mqj8Bw8SX",
        "colab_type": "code",
        "colab": {}
      },
      "source": [
        "def merge_sort(nums):\n",
        "  if len(nums) == 1:\n",
        "    return\n",
        "\n",
        "  middle_index = len(nums) // 2\n",
        "  left_half = nums[middle_index:]\n",
        "  right_half = nums[:middle_index]\n",
        "\n",
        "  merge_sort(left_half)\n",
        "  merge_sort(right_half)\n",
        "\n",
        "  i = 0\n",
        "  j = 0\n",
        "  k = 0\n",
        "\n",
        "  while i < len(left_half) and j < len(right_half):\n",
        "        if left_half[i] < right_half[j]:\n",
        "            nums[k] = left_half[i]\n",
        "            i += 1\n",
        "        else:\n",
        "            nums[k] = right_half[j]\n",
        "            j += 1\n",
        "        k += 1\n",
        "\n",
        "  while i < len(left_half):\n",
        "        nums[k] = left_half[i]\n",
        "        k += 1\n",
        "        i += 1\n",
        "\n",
        "  while j < len(right_half):\n",
        "        nums[k] = right_half[j]\n",
        "        k += 1\n",
        "        j += 1"
      ],
      "execution_count": 0,
      "outputs": []
    },
    {
      "cell_type": "code",
      "metadata": {
        "id": "9UehwV33yGmb",
        "colab_type": "code",
        "colab": {
          "base_uri": "https://localhost:8080/",
          "height": 34
        },
        "outputId": "d3298291-b417-4b47-c300-5ef7049b0bea"
      },
      "source": [
        "nums = [2, 5, 4, -1, 0, 1]\n",
        "merge_sort(nums)\n",
        "print(nums)"
      ],
      "execution_count": 2,
      "outputs": [
        {
          "output_type": "stream",
          "text": [
            "[-1, 0, 1, 2, 4, 5]\n"
          ],
          "name": "stdout"
        }
      ]
    }
  ]
}