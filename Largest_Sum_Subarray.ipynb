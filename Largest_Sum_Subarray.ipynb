{
  "nbformat": 4,
  "nbformat_minor": 0,
  "metadata": {
    "colab": {
      "name": "Largest_Sum_Subarray.ipynb",
      "provenance": []
    },
    "kernelspec": {
      "name": "python3",
      "display_name": "Python 3"
    }
  },
  "cells": [
    {
      "cell_type": "code",
      "metadata": {
        "id": "ZEjqsDJgBbGY",
        "colab_type": "code",
        "colab": {}
      },
      "source": [
        "def largest_sum(nums):\n",
        "  current_max=nums[0]\n",
        "  current_global=nums[0]\n",
        "\n",
        "  for i in range(len(nums)):\n",
        "    current_max=max(nums[i],current_max+nums[i])\n",
        "    if current_max>current_global:\n",
        "      current_global=current_max\n",
        "\n",
        "  return current_global"
      ],
      "execution_count": 0,
      "outputs": []
    },
    {
      "cell_type": "code",
      "metadata": {
        "id": "klJdZBCkCSAY",
        "colab_type": "code",
        "colab": {}
      },
      "source": [
        "nums = [1, -2, 3, 4, -5, 8]"
      ],
      "execution_count": 0,
      "outputs": []
    },
    {
      "cell_type": "code",
      "metadata": {
        "id": "8xYSILSNCVdY",
        "colab_type": "code",
        "colab": {
          "base_uri": "https://localhost:8080/",
          "height": 34
        },
        "outputId": "d1b566f4-5a54-41e2-8a25-b764a59c985e"
      },
      "source": [
        "print(largest_sum(nums))"
      ],
      "execution_count": 6,
      "outputs": [
        {
          "output_type": "stream",
          "text": [
            "10\n"
          ],
          "name": "stdout"
        }
      ]
    }
  ]
}