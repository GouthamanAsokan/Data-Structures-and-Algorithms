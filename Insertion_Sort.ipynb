{
  "nbformat": 4,
  "nbformat_minor": 0,
  "metadata": {
    "colab": {
      "name": "Insertion_Sort.ipynb",
      "provenance": []
    },
    "kernelspec": {
      "name": "python3",
      "display_name": "Python 3"
    }
  },
  "cells": [
    {
      "cell_type": "code",
      "metadata": {
        "id": "Hrsi8jzzTUsn",
        "colab_type": "code",
        "colab": {}
      },
      "source": [
        "def insertion_sort(nums):\n",
        "  for i in range(len(nums)):\n",
        "    j=i\n",
        "    while j>0 and nums[j-1]>nums[j]:\n",
        "      swap(nums,j,j-1)\n",
        "      j=j-1\n",
        "\n",
        "  return nums\n",
        "\n",
        "def swap(nums,i,j):\n",
        "  nums[i],nums[j]=nums[j],nums[i]"
      ],
      "execution_count": 0,
      "outputs": []
    },
    {
      "cell_type": "code",
      "metadata": {
        "id": "2VP6F7FWUnM0",
        "colab_type": "code",
        "colab": {
          "base_uri": "https://localhost:8080/",
          "height": 34
        },
        "outputId": "96103b1f-8318-4130-dbc7-a8ae3e24dd5b"
      },
      "source": [
        "unsorted = [1, 5, 3, 7, 10, 100, 4]\n",
        "print(unsorted)"
      ],
      "execution_count": 2,
      "outputs": [
        {
          "output_type": "stream",
          "text": [
            "[1, 5, 3, 7, 10, 100, 4]\n"
          ],
          "name": "stdout"
        }
      ]
    },
    {
      "cell_type": "code",
      "metadata": {
        "id": "lZxbp_tqUwAW",
        "colab_type": "code",
        "colab": {
          "base_uri": "https://localhost:8080/",
          "height": 34
        },
        "outputId": "a80a6ee1-5020-4fef-8ed9-477aa6d42d42"
      },
      "source": [
        "print(insertion_sort(unsorted))"
      ],
      "execution_count": 3,
      "outputs": [
        {
          "output_type": "stream",
          "text": [
            "[1, 3, 4, 5, 7, 10, 100]\n"
          ],
          "name": "stdout"
        }
      ]
    }
  ]
}