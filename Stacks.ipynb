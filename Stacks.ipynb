{
  "nbformat": 4,
  "nbformat_minor": 0,
  "metadata": {
    "colab": {
      "name": "Stacks.ipynb",
      "provenance": []
    },
    "kernelspec": {
      "name": "python3",
      "display_name": "Python 3"
    },
    "accelerator": "GPU"
  },
  "cells": [
    {
      "cell_type": "code",
      "metadata": {
        "id": "M_tb1D2wGL-g",
        "colab_type": "code",
        "colab": {}
      },
      "source": [
        "from time import time"
      ],
      "execution_count": 0,
      "outputs": []
    },
    {
      "cell_type": "code",
      "metadata": {
        "id": "nfiGu7txGaX-",
        "colab_type": "code",
        "colab": {}
      },
      "source": [
        "class Stack:\n",
        "  #array implementation\n",
        "  def __init__(self):\n",
        "    self.stack=[]\n",
        "\n",
        "  def is_empty(self):\n",
        "    return self.stack==[]\n",
        "\n",
        "  def push(self,data):\n",
        "    self.stack.append(data)\n",
        "\n",
        "  def pop(self):\n",
        "    data=self.stack[-1]\n",
        "    del self.stack[-1]\n",
        "    return data\n",
        "\n",
        "  def peek(self):\n",
        "    return self.stack[-1]\n",
        "\n",
        "  def size(self):\n",
        "    return len(self.stack)"
      ],
      "execution_count": 0,
      "outputs": []
    },
    {
      "cell_type": "code",
      "metadata": {
        "id": "mgo6omVZHm4R",
        "colab_type": "code",
        "colab": {}
      },
      "source": [
        "stack=Stack()"
      ],
      "execution_count": 0,
      "outputs": []
    },
    {
      "cell_type": "code",
      "metadata": {
        "id": "OCcXMab9Hr6m",
        "colab_type": "code",
        "colab": {}
      },
      "source": [
        "for i in range(1,4):\n",
        "  stack.push(i)"
      ],
      "execution_count": 0,
      "outputs": []
    },
    {
      "cell_type": "code",
      "metadata": {
        "id": "JnC7rkXpHzPx",
        "colab_type": "code",
        "colab": {
          "base_uri": "https://localhost:8080/",
          "height": 34
        },
        "outputId": "f3f890f1-b6f8-42f2-8fb3-f420b9c053b2"
      },
      "source": [
        "print(stack.size())"
      ],
      "execution_count": 5,
      "outputs": [
        {
          "output_type": "stream",
          "text": [
            "3\n"
          ],
          "name": "stdout"
        }
      ]
    },
    {
      "cell_type": "code",
      "metadata": {
        "id": "_OeFxoSSH8Vz",
        "colab_type": "code",
        "colab": {
          "base_uri": "https://localhost:8080/",
          "height": 34
        },
        "outputId": "77eeabd1-bcdd-43c3-d66e-a412bd4fb093"
      },
      "source": [
        "print(f\"Popped:{stack.pop()}\")"
      ],
      "execution_count": 6,
      "outputs": [
        {
          "output_type": "stream",
          "text": [
            "Popped:3\n"
          ],
          "name": "stdout"
        }
      ]
    },
    {
      "cell_type": "code",
      "metadata": {
        "id": "fCY3YiuDIIBK",
        "colab_type": "code",
        "colab": {
          "base_uri": "https://localhost:8080/",
          "height": 34
        },
        "outputId": "c860d263-4878-424c-ef23-0038bd2db1aa"
      },
      "source": [
        "print(f\"Popped:{stack.pop()}\")"
      ],
      "execution_count": 7,
      "outputs": [
        {
          "output_type": "stream",
          "text": [
            "Popped:2\n"
          ],
          "name": "stdout"
        }
      ]
    },
    {
      "cell_type": "code",
      "metadata": {
        "id": "8AfYE0RzIPkZ",
        "colab_type": "code",
        "colab": {
          "base_uri": "https://localhost:8080/",
          "height": 34
        },
        "outputId": "d0c621f0-f8a1-4960-d814-6ee6b0b21dc4"
      },
      "source": [
        "print(stack.size())"
      ],
      "execution_count": 8,
      "outputs": [
        {
          "output_type": "stream",
          "text": [
            "1\n"
          ],
          "name": "stdout"
        }
      ]
    },
    {
      "cell_type": "code",
      "metadata": {
        "id": "yJd7_IaBIUpw",
        "colab_type": "code",
        "colab": {
          "base_uri": "https://localhost:8080/",
          "height": 34
        },
        "outputId": "d9b6e4aa-ea73-4098-9a6f-77b99f8a3225"
      },
      "source": [
        "print(f\"Popped:{stack.peek()}\")"
      ],
      "execution_count": 9,
      "outputs": [
        {
          "output_type": "stream",
          "text": [
            "Popped:1\n"
          ],
          "name": "stdout"
        }
      ]
    },
    {
      "cell_type": "code",
      "metadata": {
        "id": "bIx8M0EAIZyZ",
        "colab_type": "code",
        "colab": {
          "base_uri": "https://localhost:8080/",
          "height": 34
        },
        "outputId": "dd4db90f-2de5-4475-edf9-6405b23403fb"
      },
      "source": [
        "print(stack.size())"
      ],
      "execution_count": 10,
      "outputs": [
        {
          "output_type": "stream",
          "text": [
            "1\n"
          ],
          "name": "stdout"
        }
      ]
    }
  ]
}