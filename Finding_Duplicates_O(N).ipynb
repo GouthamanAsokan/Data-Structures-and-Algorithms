{
  "nbformat": 4,
  "nbformat_minor": 0,
  "metadata": {
    "colab": {
      "name": "Finding_Duplicates_O(N).ipynb",
      "provenance": []
    },
    "kernelspec": {
      "name": "python3",
      "display_name": "Python 3"
    }
  },
  "cells": [
    {
      "cell_type": "code",
      "metadata": {
        "id": "9bUpyI4M-hvF",
        "colab_type": "code",
        "colab": {}
      },
      "source": [
        "#if ineger values are lower than length of array\n",
        "def find_duplicates(arr):\n",
        "  for i in range(len(arr)):\n",
        "    if arr[abs(arr[i])]>=0:\n",
        "      arr[abs(arr[i])]=-arr[abs(arr[i])]\n",
        "    else:\n",
        "      print(\"Duplicates found:\",abs(arr[i]))"
      ],
      "execution_count": 0,
      "outputs": []
    },
    {
      "cell_type": "code",
      "metadata": {
        "id": "99tHOR-6ANtN",
        "colab_type": "code",
        "colab": {}
      },
      "source": [
        "nums = [2, 6, 5, 1, 4, 3, 2, 6]"
      ],
      "execution_count": 0,
      "outputs": []
    },
    {
      "cell_type": "code",
      "metadata": {
        "id": "z370Dt-3AQSP",
        "colab_type": "code",
        "colab": {
          "base_uri": "https://localhost:8080/",
          "height": 51
        },
        "outputId": "71e9672f-fa59-449a-d5b5-68cb3307dee8"
      },
      "source": [
        "find_duplicates(nums)"
      ],
      "execution_count": 9,
      "outputs": [
        {
          "output_type": "stream",
          "text": [
            "Duplicates found: 2\n",
            "Duplicates found: 6\n"
          ],
          "name": "stdout"
        }
      ]
    }
  ]
}