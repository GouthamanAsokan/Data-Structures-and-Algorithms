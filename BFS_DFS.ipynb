{
  "nbformat": 4,
  "nbformat_minor": 0,
  "metadata": {
    "colab": {
      "name": "BFS_DFS.ipynb",
      "provenance": []
    },
    "kernelspec": {
      "name": "python3",
      "display_name": "Python 3"
    }
  },
  "cells": [
    {
      "cell_type": "code",
      "metadata": {
        "id": "hAFSMvPRN9A7",
        "colab_type": "code",
        "colab": {}
      },
      "source": [
        "class Node:\n",
        "  def __init__(self,name):\n",
        "    self.name=name\n",
        "    self.adjencency_list=[]\n",
        "    self.visited=False\n",
        "    self.predecessor=None\n",
        "\n",
        "class BreadthFirstSearch:\n",
        "  def bfs(self,start_node):\n",
        "    queue=[]\n",
        "    queue.append(start_node)\n",
        "    start_node.visited=True\n",
        "\n",
        "    while queue:\n",
        "      actual_node=queue.pop(0)\n",
        "      print(\"%s\"%actual_node.name)\n",
        "      for n in actual_node.adjencency_list:\n",
        "        if not n.visited:\n",
        "          n.visited=True\n",
        "          queue.append(n)"
      ],
      "execution_count": 0,
      "outputs": []
    },
    {
      "cell_type": "code",
      "metadata": {
        "id": "sPZxYvGyP6eg",
        "colab_type": "code",
        "colab": {}
      },
      "source": [
        "node1 = Node('A')\n",
        "node2 = Node('B')\n",
        "node3 = Node('C')\n",
        "node4 = Node('D')\n",
        "node5 = Node('E')"
      ],
      "execution_count": 0,
      "outputs": []
    },
    {
      "cell_type": "code",
      "metadata": {
        "id": "1o73cyrcP-jU",
        "colab_type": "code",
        "colab": {}
      },
      "source": [
        "node1.adjencency_list.append(node2)\n",
        "node1.adjencency_list.append(node3)\n",
        "node2.adjencency_list.append(node4)\n",
        "node4.adjencency_list.append(node5)"
      ],
      "execution_count": 0,
      "outputs": []
    },
    {
      "cell_type": "code",
      "metadata": {
        "id": "pcO6ldcXQGAa",
        "colab_type": "code",
        "colab": {
          "base_uri": "https://localhost:8080/",
          "height": 102
        },
        "outputId": "c3f1047a-4e50-4236-9eb5-90107e4de73d"
      },
      "source": [
        "bfs = BreadthFirstSearch()\n",
        "bfs.bfs(node1)"
      ],
      "execution_count": 4,
      "outputs": [
        {
          "output_type": "stream",
          "text": [
            "A\n",
            "B\n",
            "C\n",
            "D\n",
            "E\n"
          ],
          "name": "stdout"
        }
      ]
    },
    {
      "cell_type": "code",
      "metadata": {
        "id": "Dj_1X1YYQPtr",
        "colab_type": "code",
        "colab": {}
      },
      "source": [
        "class DepthFirstSearch:\n",
        "  def dfs(self,node):\n",
        "    node.visited=True\n",
        "    print(node.name)\n",
        "    for n in node.adjencency_list:\n",
        "      if not n.visited:\n",
        "        self.dfs(n)\n"
      ],
      "execution_count": 0,
      "outputs": []
    },
    {
      "cell_type": "code",
      "metadata": {
        "id": "oRXRl7mcQ-Nz",
        "colab_type": "code",
        "colab": {}
      },
      "source": [
        "node1 = Node('A')\n",
        "node2 = Node('B')\n",
        "node3 = Node('C')\n",
        "node4 = Node('D')\n",
        "node5 = Node('E')"
      ],
      "execution_count": 0,
      "outputs": []
    },
    {
      "cell_type": "code",
      "metadata": {
        "id": "RJRBRxwfRBgd",
        "colab_type": "code",
        "colab": {}
      },
      "source": [
        "node1.adjencency_list.append(node2)\n",
        "node1.adjencency_list.append(node3)\n",
        "node2.adjencency_list.append(node4)\n",
        "node4.adjencency_list.append(node5)"
      ],
      "execution_count": 0,
      "outputs": []
    },
    {
      "cell_type": "code",
      "metadata": {
        "id": "S30PTogGRSzv",
        "colab_type": "code",
        "colab": {
          "base_uri": "https://localhost:8080/",
          "height": 102
        },
        "outputId": "9b693b34-1659-4d09-8341-7a1ca3bf6218"
      },
      "source": [
        "dfs = DepthFirstSearch()\n",
        "dfs.dfs(node1)"
      ],
      "execution_count": 8,
      "outputs": [
        {
          "output_type": "stream",
          "text": [
            "A\n",
            "B\n",
            "D\n",
            "E\n",
            "C\n"
          ],
          "name": "stdout"
        }
      ]
    }
  ]
}