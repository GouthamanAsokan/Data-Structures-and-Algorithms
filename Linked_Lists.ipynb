{
  "nbformat": 4,
  "nbformat_minor": 0,
  "metadata": {
    "colab": {
      "name": "Linked-Lists.ipynb",
      "provenance": []
    },
    "kernelspec": {
      "name": "python3",
      "display_name": "Python 3"
    },
    "accelerator": "GPU"
  },
  "cells": [
    {
      "cell_type": "code",
      "metadata": {
        "id": "OAjwTfLh59EH",
        "colab_type": "code",
        "colab": {}
      },
      "source": [
        "import time"
      ],
      "execution_count": 0,
      "outputs": []
    },
    {
      "cell_type": "code",
      "metadata": {
        "id": "ifXPveiK6KV2",
        "colab_type": "code",
        "colab": {}
      },
      "source": [
        "#Nodes\n",
        "class Node:\n",
        "  def __init__(self,data):\n",
        "    self.data=data\n",
        "    self.next_node=None\n",
        "    self.previous_node=None"
      ],
      "execution_count": 0,
      "outputs": []
    },
    {
      "cell_type": "code",
      "metadata": {
        "id": "RMq09PpM6fju",
        "colab_type": "code",
        "colab": {}
      },
      "source": [
        "#Linked-List class\n",
        "class LinkedList:\n",
        "  def __init__(self):\n",
        "    self.head=None\n",
        "    self.size=0\n",
        "\n",
        "  def insert_at_start(self,data):\n",
        "    self.size+=1\n",
        "    new_node=Node(data)\n",
        "\n",
        "    if not self.head:\n",
        "      self.head=new_node\n",
        "    else:\n",
        "      new_node.next_node=self.head\n",
        "      self.head=new_node\n",
        "\n",
        "  def length(self):\n",
        "    return self.size\n",
        "\n",
        "  def length_two(self):\n",
        "    actual_node=self.head\n",
        "    size=0\n",
        "    while actual_node is not None:\n",
        "      size+=1\n",
        "      actual_node=actual_node.next_node\n",
        "    return size\n",
        "\n",
        "  def insert_at_end(self,data):\n",
        "    self.size+=1\n",
        "    new_node=Node(data)\n",
        "    actual_node=self.head\n",
        "    while actual_node.next_node is not None:\n",
        "      actual_node=actual_node.next_node\n",
        "    actual_node.next_node=new_node\n",
        "\n",
        "  def transverse_list(self):\n",
        "    actual_node=self.head\n",
        "    while actual_node is not None:\n",
        "      print(f\"{actual_node.data}\")\n",
        "      actual_node=actual_node.next_node\n",
        "\n",
        "  def remove(self,data):\n",
        "    if self.head is None:\n",
        "      return\n",
        "    self.size-=1\n",
        "    current_node=self.head\n",
        "    previous_node=None\n",
        "    while current_node.data!=data:\n",
        "      previous_node=current_node\n",
        "      current_node=current_node.next_node\n",
        "    if previous_node is None:\n",
        "      self.head = current_node.next_node\n",
        "    else:\n",
        "      previous_node.next_node = current_node.next_node"
      ],
      "execution_count": 0,
      "outputs": []
    },
    {
      "cell_type": "code",
      "metadata": {
        "id": "MVnufereAcVb",
        "colab_type": "code",
        "colab": {}
      },
      "source": [
        "class DoublyLinkedList:\n",
        "  def __init__(self):\n",
        "    self.head=None\n",
        "    self.size=0\n",
        "\n",
        "  def length(self):\n",
        "    return self.size\n",
        "\n",
        "  def insert_at_start(self, data):\n",
        "        self.size += 1\n",
        "        new_node = Node(data)\n",
        "        \n",
        "        if not self.head:\n",
        "            self.head = new_node\n",
        "        else:\n",
        "            new_node.next_node = self.head\n",
        "            self.head.previous_node = new_node\n",
        "            self.head = new_node\n",
        "\n",
        "  def insert_at_end(self, data):\n",
        "        self.size += 1\n",
        "        new_node = Node(data)\n",
        "        actual_node = self.head\n",
        "        \n",
        "        while actual_node.next_node is not None:\n",
        "            actual_node = actual_node.next_node\n",
        "        \n",
        "        actual_node.next_node = new_node\n",
        "        new_node.previous_node = actual_node\n",
        "\n",
        "  def traverse(self):\n",
        "        actual_node = self.head\n",
        "        \n",
        "        while actual_node is not None:\n",
        "            print(f\"{actual_node.data}\")\n",
        "            actual_node = actual_node.next_node\n",
        "\n",
        "  def remove(self, data):\n",
        "        # Memory-Friendlier than Single Linked Lists\n",
        "        if self.head is None:\n",
        "            return\n",
        "        self.size -= 1\n",
        "        current_node = self.head\n",
        "        while current_node.data != data:\n",
        "            current_node = current_node.next_node\n",
        "        current_node.previous_node.next_node = current_node.next_node\n",
        "        current_node.next_node.previous_node = current_node.previous_node\n",
        "  \n"
      ],
      "execution_count": 0,
      "outputs": []
    },
    {
      "cell_type": "code",
      "metadata": {
        "id": "3FbKYfVBCYfo",
        "colab_type": "code",
        "colab": {}
      },
      "source": [
        "dLinkedList = DoublyLinkedList()"
      ],
      "execution_count": 0,
      "outputs": []
    },
    {
      "cell_type": "code",
      "metadata": {
        "id": "LDYiYI2QCf_3",
        "colab_type": "code",
        "colab": {}
      },
      "source": [
        "dLinkedList.insert_at_start(10)\n",
        "dLinkedList.insert_at_start(20)\n",
        "dLinkedList.insert_at_start(30)"
      ],
      "execution_count": 0,
      "outputs": []
    },
    {
      "cell_type": "code",
      "metadata": {
        "id": "dQgFkZtACjwu",
        "colab_type": "code",
        "colab": {}
      },
      "source": [
        "dLinkedList.insert_at_end(40)\n",
        "dLinkedList.insert_at_end(50)\n",
        "dLinkedList.insert_at_end(60)"
      ],
      "execution_count": 0,
      "outputs": []
    },
    {
      "cell_type": "code",
      "metadata": {
        "id": "cmBcuu_-CoB_",
        "colab_type": "code",
        "colab": {
          "base_uri": "https://localhost:8080/",
          "height": 119
        },
        "outputId": "fa38cc16-56ce-4054-8053-f3bacb37d0be"
      },
      "source": [
        "dLinkedList.traverse()"
      ],
      "execution_count": 10,
      "outputs": [
        {
          "output_type": "stream",
          "text": [
            "30\n",
            "20\n",
            "10\n",
            "40\n",
            "50\n",
            "60\n"
          ],
          "name": "stdout"
        }
      ]
    },
    {
      "cell_type": "code",
      "metadata": {
        "id": "fe1O0xbkCr6P",
        "colab_type": "code",
        "colab": {}
      },
      "source": [
        "dLinkedList.remove(40)"
      ],
      "execution_count": 0,
      "outputs": []
    },
    {
      "cell_type": "code",
      "metadata": {
        "id": "NiQYK6_JC1PZ",
        "colab_type": "code",
        "colab": {
          "base_uri": "https://localhost:8080/",
          "height": 102
        },
        "outputId": "43d2e9b1-2dd7-43f3-d3aa-e988ca2508cc"
      },
      "source": [
        "dLinkedList.traverse()"
      ],
      "execution_count": 12,
      "outputs": [
        {
          "output_type": "stream",
          "text": [
            "30\n",
            "20\n",
            "10\n",
            "50\n",
            "60\n"
          ],
          "name": "stdout"
        }
      ]
    },
    {
      "cell_type": "code",
      "metadata": {
        "id": "s5nHBfGNC4eD",
        "colab_type": "code",
        "colab": {
          "base_uri": "https://localhost:8080/",
          "height": 34
        },
        "outputId": "4efc36bb-dd91-4a60-bd53-7c8a8923d097"
      },
      "source": [
        "print(dLinkedList.head.data)"
      ],
      "execution_count": 13,
      "outputs": [
        {
          "output_type": "stream",
          "text": [
            "30\n"
          ],
          "name": "stdout"
        }
      ]
    },
    {
      "cell_type": "code",
      "metadata": {
        "id": "xY85AcpDC8qj",
        "colab_type": "code",
        "colab": {
          "base_uri": "https://localhost:8080/",
          "height": 34
        },
        "outputId": "340e469b-6cf9-4e09-e889-1bb1f012560c"
      },
      "source": [
        "print(dLinkedList.head.next_node.data)"
      ],
      "execution_count": 14,
      "outputs": [
        {
          "output_type": "stream",
          "text": [
            "20\n"
          ],
          "name": "stdout"
        }
      ]
    },
    {
      "cell_type": "code",
      "metadata": {
        "id": "rO6ot4b-DBCy",
        "colab_type": "code",
        "colab": {
          "base_uri": "https://localhost:8080/",
          "height": 34
        },
        "outputId": "c8287fb6-af9d-4b31-c8bf-c72638f97c2a"
      },
      "source": [
        "print(dLinkedList.head.next_node.previous_node.data)"
      ],
      "execution_count": 15,
      "outputs": [
        {
          "output_type": "stream",
          "text": [
            "30\n"
          ],
          "name": "stdout"
        }
      ]
    },
    {
      "cell_type": "code",
      "metadata": {
        "id": "TxiX1ggUDFdj",
        "colab_type": "code",
        "colab": {
          "base_uri": "https://localhost:8080/",
          "height": 51
        },
        "outputId": "78e6e20f-876f-446d-d17e-1a09d2645343"
      },
      "source": [
        "test_doubly_linked_list = DoublyLinkedList()\n",
        "\n",
        "start = time.time()\n",
        "\n",
        "for i in range(10000):\n",
        "    test_doubly_linked_list.insert_at_start(i)\n",
        "\n",
        "end = time.time()\n",
        "print(end - start)\n",
        "\n",
        "start = time.time()\n",
        "test_doubly_linked_list.remove(8000)\n",
        "end = time.time()\n",
        "\n",
        "print(end - start)"
      ],
      "execution_count": 16,
      "outputs": [
        {
          "output_type": "stream",
          "text": [
            "0.016373395919799805\n",
            "0.0001571178436279297\n"
          ],
          "name": "stdout"
        }
      ]
    },
    {
      "cell_type": "code",
      "metadata": {
        "id": "5sWhfVY9Dn5S",
        "colab_type": "code",
        "colab": {}
      },
      "source": [
        "my_linked = LinkedList()"
      ],
      "execution_count": 0,
      "outputs": []
    },
    {
      "cell_type": "code",
      "metadata": {
        "id": "bjqImwRHDq4y",
        "colab_type": "code",
        "colab": {
          "base_uri": "https://localhost:8080/",
          "height": 34
        },
        "outputId": "8263d3f0-2cff-4c9b-c826-5d0df2405e31"
      },
      "source": [
        "start = time.time()\n",
        "for i in range(10000):\n",
        "    my_linked.insert_at_start(i)\n",
        "end = time.time()\n",
        "\n",
        "print(end - start)"
      ],
      "execution_count": 18,
      "outputs": [
        {
          "output_type": "stream",
          "text": [
            "0.013887405395507812\n"
          ],
          "name": "stdout"
        }
      ]
    },
    {
      "cell_type": "code",
      "metadata": {
        "id": "Gy7Z8WNiDvLT",
        "colab_type": "code",
        "colab": {}
      },
      "source": [
        "test_ll = LinkedList()"
      ],
      "execution_count": 0,
      "outputs": []
    },
    {
      "cell_type": "code",
      "metadata": {
        "id": "lEXhWhpPD5N4",
        "colab_type": "code",
        "colab": {
          "base_uri": "https://localhost:8080/",
          "height": 34
        },
        "outputId": "32d3e886-cd14-45f9-e959-88788858a96e"
      },
      "source": [
        "start = time.time()\n",
        "for i in range(100000):\n",
        "    test_ll.insert_at_start(i) # O(1)\n",
        "end = time.time()\n",
        "print(end-start)"
      ],
      "execution_count": 20,
      "outputs": [
        {
          "output_type": "stream",
          "text": [
            "0.18799352645874023\n"
          ],
          "name": "stdout"
        }
      ]
    },
    {
      "cell_type": "code",
      "metadata": {
        "id": "MNrAcJFfD-GV",
        "colab_type": "code",
        "colab": {
          "base_uri": "https://localhost:8080/",
          "height": 34
        },
        "outputId": "4f121135-7c36-4104-9f36-6b350d34c4d0"
      },
      "source": [
        "start = time.time()\n",
        "for i in range(100000, 150000):\n",
        "    test_ll.insert_at_end(i) # Each time -> O(N)\n",
        "end = time.time()\n",
        "print(end-start)"
      ],
      "execution_count": 21,
      "outputs": [
        {
          "output_type": "stream",
          "text": [
            "357.5189332962036\n"
          ],
          "name": "stdout"
        }
      ]
    }
  ]
}