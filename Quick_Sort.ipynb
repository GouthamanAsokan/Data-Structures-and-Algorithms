{
  "nbformat": 4,
  "nbformat_minor": 0,
  "metadata": {
    "colab": {
      "name": "Quick_Sort.ipynb",
      "provenance": []
    },
    "kernelspec": {
      "name": "python3",
      "display_name": "Python 3"
    }
  },
  "cells": [
    {
      "cell_type": "code",
      "metadata": {
        "id": "myCvGYBuu7N5",
        "colab_type": "code",
        "colab": {}
      },
      "source": [
        "def quicksort(array,low,high):\n",
        "  if low>=high:\n",
        "    return\n",
        "\n",
        "  pivot=partition(array,low,high)\n",
        "  quicksort(array,low,pivot-1)\n",
        "  quicksort(array,pivot+1,high)\n",
        "\n",
        "def partition(array,low,high):\n",
        "  pivot_index=(low+high)//2\n",
        "  array[pivot_index], array[high] = array[high], array[pivot_index]\n",
        "\n",
        "  i = low\n",
        "  for j in range(low, high):\n",
        "    if array[j] <= array[high]:\n",
        "      array[i], array[j] = array[j], array[i]\n",
        "      i += 1\n",
        "\n",
        "  array[i], array[high] = array[high], array[i]\n",
        "  return i"
      ],
      "execution_count": 0,
      "outputs": []
    },
    {
      "cell_type": "code",
      "metadata": {
        "id": "jkJRegUSwgag",
        "colab_type": "code",
        "colab": {}
      },
      "source": [
        "from random import shuffle\n",
        "from time import time\n",
        "\n",
        "unsorted = [i for i in range(100)]"
      ],
      "execution_count": 0,
      "outputs": []
    },
    {
      "cell_type": "code",
      "metadata": {
        "id": "rvWa5opLwrFk",
        "colab_type": "code",
        "colab": {
          "base_uri": "https://localhost:8080/",
          "height": 71
        },
        "outputId": "d4a8dbe3-19d5-4771-84c8-8e62b20a4a4d"
      },
      "source": [
        "shuffle(unsorted)\n",
        "one = time()\n",
        "quicksort(unsorted, 0, len(unsorted) - 1)\n",
        "two = time()\n",
        "\n",
        "print(unsorted)\n",
        "print(two - one)"
      ],
      "execution_count": 3,
      "outputs": [
        {
          "output_type": "stream",
          "text": [
            "[0, 1, 2, 3, 4, 5, 6, 7, 8, 9, 10, 11, 12, 13, 14, 15, 16, 17, 18, 19, 20, 21, 22, 23, 24, 25, 26, 27, 28, 29, 30, 31, 32, 33, 34, 35, 36, 37, 38, 39, 40, 41, 42, 43, 44, 45, 46, 47, 48, 49, 50, 51, 52, 53, 54, 55, 56, 57, 58, 59, 60, 61, 62, 63, 64, 65, 66, 67, 68, 69, 70, 71, 72, 73, 74, 75, 76, 77, 78, 79, 80, 81, 82, 83, 84, 85, 86, 87, 88, 89, 90, 91, 92, 93, 94, 95, 96, 97, 98, 99]\n",
            "0.0003376007080078125\n"
          ],
          "name": "stdout"
        }
      ]
    }
  ]
}