{
  "nbformat": 4,
  "nbformat_minor": 0,
  "metadata": {
    "colab": {
      "name": "Heap.ipynb",
      "provenance": []
    },
    "kernelspec": {
      "name": "python3",
      "display_name": "Python 3"
    }
  },
  "cells": [
    {
      "cell_type": "code",
      "metadata": {
        "id": "09MQFTEEBFii",
        "colab_type": "code",
        "colab": {}
      },
      "source": [
        "capacity=100000"
      ],
      "execution_count": 0,
      "outputs": []
    },
    {
      "cell_type": "code",
      "metadata": {
        "id": "5--XSOtwBdQ_",
        "colab_type": "code",
        "colab": {}
      },
      "source": [
        "class Heap:\n",
        "  def __init__(self):\n",
        "    self.heap=[0]*capacity\n",
        "    self.heap_size=0\n",
        "\n",
        "  def insert(self,item):\n",
        "    if capacity==self.heap_size:\n",
        "      return\n",
        "    self.heap[self.heap_size]=item\n",
        "    self.heap_size+=1\n",
        "    self.fix_up(self.heap_size-1)\n",
        "\n",
        "  def fix_up(self,index):\n",
        "    parent_index=(index-1)//2\n",
        "    if index>0 and self.heap[index]>self.heap[parent_index]:\n",
        "      self.swap(index,parent_index)\n",
        "      self.fix_up(parent_index)\n",
        "\n",
        "  def swap(self,index1,index2):\n",
        "    self.heap[index2], self.heap[index1] = self.heap[index1], self.heap[index2]\n",
        "\n",
        "  def get_max(self):\n",
        "    return self.heap[0]\n",
        "\n",
        "  def poll(self):\n",
        "    max=self.get_max()\n",
        "    self.swap(0,self.heap_size - 1)\n",
        "    self.heap_size -= 1\n",
        "    self.fix_down(0)\n",
        "    return max\n",
        "\n",
        "  def fix_down(self, index):\n",
        "    index_left = 2 * index + 1 # Left -> 2*i+1\n",
        "    index_right = 2 * index + 2 # Right -> 2*i+2\n",
        "    index_largest = index\n",
        "    if index_left < self.heap_size and self.heap[index_left] > self.heap[index]:\n",
        "            index_largest = index_left\n",
        "    if index_right < self.heap_size and self.heap[index_right] > self.heap[index]:\n",
        "            index_largest = index_right\n",
        "    if index != index_largest:\n",
        "            self.swap(index, index_largest)\n",
        "            self.fix_down(index_largest)\n",
        "    \n",
        "  def heap_sort(self):\n",
        "    size = self.heap_size\n",
        "    for i in range(0, size): # O(N)\n",
        "            max = self.poll()\n",
        "            print(max)"
      ],
      "execution_count": 0,
      "outputs": []
    },
    {
      "cell_type": "code",
      "metadata": {
        "id": "wr3MqVzpFY4E",
        "colab_type": "code",
        "colab": {}
      },
      "source": [
        "from random import randint\n",
        "heap = Heap()"
      ],
      "execution_count": 0,
      "outputs": []
    },
    {
      "cell_type": "code",
      "metadata": {
        "id": "7jPcXxunFgVR",
        "colab_type": "code",
        "colab": {}
      },
      "source": [
        "for i in range(10):\n",
        "    heap.insert(i * randint(1, 9))"
      ],
      "execution_count": 0,
      "outputs": []
    },
    {
      "cell_type": "code",
      "metadata": {
        "id": "IeJjW1CtFmT5",
        "colab_type": "code",
        "colab": {
          "base_uri": "https://localhost:8080/",
          "height": 187
        },
        "outputId": "254c0a55-fdbd-4b29-cc43-9ea67924501c"
      },
      "source": [
        "heap.heap_sort()"
      ],
      "execution_count": 6,
      "outputs": [
        {
          "output_type": "stream",
          "text": [
            "64\n",
            "28\n",
            "54\n",
            "5\n",
            "3\n",
            "2\n",
            "42\n",
            "36\n",
            "18\n",
            "0\n"
          ],
          "name": "stdout"
        }
      ]
    }
  ]
}