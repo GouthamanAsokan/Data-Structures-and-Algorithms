{
  "nbformat": 4,
  "nbformat_minor": 0,
  "metadata": {
    "colab": {
      "name": "Anagram.ipynb",
      "provenance": [],
      "collapsed_sections": []
    },
    "kernelspec": {
      "name": "python3",
      "display_name": "Python 3"
    }
  },
  "cells": [
    {
      "cell_type": "code",
      "metadata": {
        "id": "2qQQuUk77NGq",
        "colab_type": "code",
        "colab": {}
      },
      "source": [
        "def is_anagram(str1,str2):\n",
        "  if len(str1)!=len(str2):\n",
        "    return False\n",
        "\n",
        "  str1=sorted(str1)\n",
        "  str2=sorted(str2)\n",
        "\n",
        "  for i in range(len(str1)):\n",
        "    if str1[i]!=str2[i]:\n",
        "      return False\n",
        "  return True\n"
      ],
      "execution_count": 0,
      "outputs": []
    },
    {
      "cell_type": "code",
      "metadata": {
        "id": "XRbpbRY98mZS",
        "colab_type": "code",
        "colab": {
          "base_uri": "https://localhost:8080/",
          "height": 34
        },
        "outputId": "fdf9a25f-2f58-4645-d54c-18ba98fb0f3a"
      },
      "source": [
        "is_anagram('restful','fluster')"
      ],
      "execution_count": 2,
      "outputs": [
        {
          "output_type": "execute_result",
          "data": {
            "text/plain": [
              "True"
            ]
          },
          "metadata": {
            "tags": []
          },
          "execution_count": 2
        }
      ]
    },
    {
      "cell_type": "code",
      "metadata": {
        "id": "OtLggell8vOr",
        "colab_type": "code",
        "colab": {
          "base_uri": "https://localhost:8080/",
          "height": 34
        },
        "outputId": "f2c2f95c-4bff-4608-c64d-d5372a594f0a"
      },
      "source": [
        "is_anagram('pythonn','fluster')"
      ],
      "execution_count": 3,
      "outputs": [
        {
          "output_type": "execute_result",
          "data": {
            "text/plain": [
              "False"
            ]
          },
          "metadata": {
            "tags": []
          },
          "execution_count": 3
        }
      ]
    }
  ]
}