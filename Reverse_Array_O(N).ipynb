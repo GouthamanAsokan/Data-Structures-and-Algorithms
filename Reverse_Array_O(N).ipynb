{
  "nbformat": 4,
  "nbformat_minor": 0,
  "metadata": {
    "colab": {
      "name": "Reverse_Array_O(N).ipynb",
      "provenance": []
    },
    "kernelspec": {
      "name": "python3",
      "display_name": "Python 3"
    }
  },
  "cells": [
    {
      "cell_type": "code",
      "metadata": {
        "id": "kpMTKxseiOlY",
        "colab_type": "code",
        "colab": {}
      },
      "source": [
        "def reverse(nums):\n",
        "  end_index=len(nums)-1\n",
        "  middle_index=len(nums)//2\n",
        "\n",
        "  for i in range(middle_index + 1):\n",
        "        nums[i], nums[end_index] = nums[end_index], nums[i]\n",
        "        end_index -= 1\n",
        "  if len(nums) % 2 == 0:\n",
        "        nums[middle_index], nums[middle_index-1] = nums[middle_index-1], nums[middle_index]\n",
        "  print(middle_index)\n",
        "  return nums"
      ],
      "execution_count": 0,
      "outputs": []
    },
    {
      "cell_type": "code",
      "metadata": {
        "id": "QfZUdxuGibPV",
        "colab_type": "code",
        "colab": {}
      },
      "source": [
        "a=[1,2,3,4,5,6,7,8,9,10,11]"
      ],
      "execution_count": 0,
      "outputs": []
    },
    {
      "cell_type": "code",
      "metadata": {
        "id": "JOlHZLvoiucU",
        "colab_type": "code",
        "colab": {
          "base_uri": "https://localhost:8080/",
          "height": 51
        },
        "outputId": "a3c9a2ec-852f-4328-8719-5d7916fb54a6"
      },
      "source": [
        "reverse(a)"
      ],
      "execution_count": 4,
      "outputs": [
        {
          "output_type": "stream",
          "text": [
            "5\n"
          ],
          "name": "stdout"
        },
        {
          "output_type": "execute_result",
          "data": {
            "text/plain": [
              "[11, 10, 9, 8, 7, 6, 5, 4, 3, 2, 1]"
            ]
          },
          "metadata": {
            "tags": []
          },
          "execution_count": 4
        }
      ]
    }
  ]
}