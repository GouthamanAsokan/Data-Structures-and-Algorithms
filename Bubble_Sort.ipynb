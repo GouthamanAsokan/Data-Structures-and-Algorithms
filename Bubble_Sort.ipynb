{
  "nbformat": 4,
  "nbformat_minor": 0,
  "metadata": {
    "colab": {
      "name": "Bubble_Sort.ipynb",
      "provenance": []
    },
    "kernelspec": {
      "name": "python3",
      "display_name": "Python 3"
    }
  },
  "cells": [
    {
      "cell_type": "code",
      "metadata": {
        "id": "LdGpv02qPNus",
        "colab_type": "code",
        "colab": {}
      },
      "source": [
        "def bubble_sort(nums):\n",
        "  for i in range(len(nums)-1):\n",
        "    for j in range(0,len(nums)-1-i,1):\n",
        "      if nums[j]>nums[j+1]:\n",
        "        swap(nums,j,j+1)\n",
        "\n",
        "  return nums\n",
        "\n",
        "def swap(nums,i,j):\n",
        "  nums[i], nums[j] = nums[j], nums[i]"
      ],
      "execution_count": 0,
      "outputs": []
    },
    {
      "cell_type": "code",
      "metadata": {
        "id": "n8xv-rPaQ5jU",
        "colab_type": "code",
        "colab": {
          "base_uri": "https://localhost:8080/",
          "height": 34
        },
        "outputId": "f7a02753-9456-47bc-c617-822a8d9bf401"
      },
      "source": [
        "unsorted = [1, 5, 3, 2, 4, 8, 7]\n",
        "print(unsorted)"
      ],
      "execution_count": 2,
      "outputs": [
        {
          "output_type": "stream",
          "text": [
            "[1, 5, 3, 2, 4, 8, 7]\n"
          ],
          "name": "stdout"
        }
      ]
    },
    {
      "cell_type": "code",
      "metadata": {
        "id": "AlbHfDwFQ99j",
        "colab_type": "code",
        "colab": {
          "base_uri": "https://localhost:8080/",
          "height": 34
        },
        "outputId": "2401f9d7-05e8-40a3-8672-6f0595b46540"
      },
      "source": [
        "sorted = bubble_sort(unsorted)\n",
        "print(sorted)"
      ],
      "execution_count": 3,
      "outputs": [
        {
          "output_type": "stream",
          "text": [
            "[1, 2, 3, 4, 5, 7, 8]\n"
          ],
          "name": "stdout"
        }
      ]
    },
    {
      "cell_type": "code",
      "metadata": {
        "id": "CMOaDmnsRGHM",
        "colab_type": "code",
        "colab": {
          "base_uri": "https://localhost:8080/",
          "height": 34
        },
        "outputId": "ec1ca8db-38e8-44f7-844d-fb83f9bbced5"
      },
      "source": [
        "from random import shuffle\n",
        "from time import time\n",
        "\n",
        "a = [int(i) for i in range(100)]\n",
        "shuffle(a)\n",
        "x = time()\n",
        "sorted = bubble_sort(a)\n",
        "y = time()\n",
        "print(y - x)"
      ],
      "execution_count": 4,
      "outputs": [
        {
          "output_type": "stream",
          "text": [
            "0.0007901191711425781\n"
          ],
          "name": "stdout"
        }
      ]
    }
  ]
}