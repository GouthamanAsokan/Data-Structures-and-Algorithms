{
  "nbformat": 4,
  "nbformat_minor": 0,
  "metadata": {
    "colab": {
      "name": "Arrays.ipynb",
      "provenance": []
    },
    "kernelspec": {
      "name": "python3",
      "display_name": "Python 3"
    },
    "accelerator": "GPU"
  },
  "cells": [
    {
      "cell_type": "code",
      "metadata": {
        "id": "kaBWXoh31Cid",
        "colab_type": "code",
        "colab": {}
      },
      "source": [
        "from random import shuffle\n",
        "import time"
      ],
      "execution_count": 0,
      "outputs": []
    },
    {
      "cell_type": "code",
      "metadata": {
        "id": "-qjSrYNU1aEA",
        "colab_type": "code",
        "colab": {}
      },
      "source": [
        "numbers=[i for i in range(999)]\n",
        "shuffle(numbers)"
      ],
      "execution_count": 0,
      "outputs": []
    },
    {
      "cell_type": "code",
      "metadata": {
        "id": "yaIr88kK1n36",
        "colab_type": "code",
        "colab": {
          "base_uri": "https://localhost:8080/",
          "height": 34
        },
        "outputId": "fcdac1a6-70fb-4045-c60d-a6453230cdaa"
      },
      "source": [
        "print(numbers[0])"
      ],
      "execution_count": 3,
      "outputs": [
        {
          "output_type": "stream",
          "text": [
            "53\n"
          ],
          "name": "stdout"
        }
      ]
    },
    {
      "cell_type": "code",
      "metadata": {
        "id": "50ieF4NR1s78",
        "colab_type": "code",
        "colab": {
          "base_uri": "https://localhost:8080/",
          "height": 34
        },
        "outputId": "61c239ee-5e48-41c6-d28b-2d45a21a204e"
      },
      "source": [
        "print(numbers[1])"
      ],
      "execution_count": 4,
      "outputs": [
        {
          "output_type": "stream",
          "text": [
            "26\n"
          ],
          "name": "stdout"
        }
      ]
    },
    {
      "cell_type": "code",
      "metadata": {
        "id": "_EvJPsnY14wA",
        "colab_type": "code",
        "colab": {}
      },
      "source": [
        "#can store other data types inside the list\n",
        "numbers[1]='aaa'"
      ],
      "execution_count": 0,
      "outputs": []
    },
    {
      "cell_type": "code",
      "metadata": {
        "id": "EUlMI5W42IEQ",
        "colab_type": "code",
        "colab": {
          "base_uri": "https://localhost:8080/",
          "height": 85
        },
        "outputId": "15de9b50-7093-4875-d391-a19f7fe15455"
      },
      "source": [
        "for i in range(4):\n",
        "  print(numbers[i])"
      ],
      "execution_count": 7,
      "outputs": [
        {
          "output_type": "stream",
          "text": [
            "53\n",
            "aaa\n",
            "305\n",
            "211\n"
          ],
          "name": "stdout"
        }
      ]
    },
    {
      "cell_type": "code",
      "metadata": {
        "id": "8cNPDbsI3Tem",
        "colab_type": "code",
        "colab": {}
      },
      "source": [
        "#Dynamically changes\n",
        "numbers[1]=50"
      ],
      "execution_count": 0,
      "outputs": []
    },
    {
      "cell_type": "code",
      "metadata": {
        "id": "72U0OClh2QG4",
        "colab_type": "code",
        "colab": {
          "base_uri": "https://localhost:8080/",
          "height": 51
        },
        "outputId": "8f0c72f7-e7cf-4acd-9e2c-1595ccf56440"
      },
      "source": [
        "#Linear search\n",
        "start = time.time()\n",
        "#Time Complexity:O(N)\n",
        "maximum=numbers[0]\n",
        "for num in numbers:\n",
        "  if num>maximum:\n",
        "    maximum=num\n",
        "end=time.time()\n",
        "print(end-start)\n",
        "print(maximum)\n"
      ],
      "execution_count": 10,
      "outputs": [
        {
          "output_type": "stream",
          "text": [
            "0.00029540061950683594\n",
            "998\n"
          ],
          "name": "stdout"
        }
      ]
    }
  ]
}