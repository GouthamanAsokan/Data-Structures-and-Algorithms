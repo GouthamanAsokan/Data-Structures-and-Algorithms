{
  "nbformat": 4,
  "nbformat_minor": 0,
  "metadata": {
    "colab": {
      "name": "Binary_Search_Trees.ipynb",
      "provenance": [],
      "collapsed_sections": []
    },
    "kernelspec": {
      "name": "python3",
      "display_name": "Python 3"
    }
  },
  "cells": [
    {
      "cell_type": "code",
      "metadata": {
        "id": "15OsbPCNMLJr",
        "colab_type": "code",
        "colab": {}
      },
      "source": [
        "class Node:\n",
        "  def __init__(self,data):\n",
        "    self.data=data\n",
        "    self.left_child=None\n",
        "    self.right_child=None\n",
        "\n",
        "class BinarySearchTree:\n",
        "  def __init__(self):\n",
        "    self.root=None\n",
        "\n",
        "  def insert(self,data):\n",
        "    if not self.root:\n",
        "      self.root=Node(data)\n",
        "    else:\n",
        "      self.insert_node(data,self.root)\n",
        "\n",
        "  def insert_node(self,data,node):\n",
        "    if data<node.data:\n",
        "      if node.left_child:\n",
        "        self.insert_node(data,node.left_child)\n",
        "      else:\n",
        "        node.left_child = Node(data)\n",
        "    else:\n",
        "      if node.right_child:\n",
        "        self.insert_node(data,node.right_child)\n",
        "      else:\n",
        "        node.right_child = Node(data)\n",
        "\n",
        "  def get_min_value(self):\n",
        "    if self.root:\n",
        "      return self.get_min(self.root)\n",
        "\n",
        "  def get_min(self,node):\n",
        "    if node.left_child:\n",
        "      return self.get_min(node.left_child)\n",
        "    return node.data\n",
        "\n",
        "  def get_max_value(self):\n",
        "    if self.root:\n",
        "      return self.get_max(self.root)\n",
        "\n",
        "  def get_max(self,node):\n",
        "    if node.right_child:\n",
        "      return self.get_max(node.right_child)\n",
        "    return node.data\n",
        "\n",
        "  def traverse(self):\n",
        "    if self.root:\n",
        "      self.traverse_in_order(self.root)\n",
        "\n",
        "  def traverse_in_order(self,node):\n",
        "    if node.left_child:\n",
        "            self.traverse_in_order(node.left_child)\n",
        "            \n",
        "    print(f'{node.data}')\n",
        "        \n",
        "    if node.right_child:\n",
        "            self.traverse_in_order(node.right_child)\n",
        "\n",
        "  def remove(self,data):\n",
        "    if self.root:\n",
        "      return self.remove_node(data,self.root)\n",
        "\n",
        "  def remove_node(self,data,node):\n",
        "    if not node:\n",
        "      return node\n",
        "    elif data<node.data:\n",
        "      node.left_child=self.remove_node(data, node.left_child)\n",
        "    elif data>node.data:\n",
        "      node.right_child=self.remove_node(data, node.right_child)\n",
        "    else:\n",
        "      if not node.left_child and not node.right_child:\n",
        "        print(\"removing a leaf node\")\n",
        "        del node\n",
        "        return None\n",
        "      elif not node.left_child:\n",
        "        print(\"removing a node with single right child\")\n",
        "        temp_node = node.right_child\n",
        "        del node\n",
        "        return temp_node\n",
        "      elif not node.right_child:\n",
        "        print(\"removing a node with single left child\")\n",
        "        temp_node = node.left_child\n",
        "        del node\n",
        "        return temp_node\n",
        "      print(\"Removing node with two children\")\n",
        "      temp_node = self.get_predecessor(node.left_child)\n",
        "      node.data = temp_node.data\n",
        "      node.left_child = self.remove_node(temp_node.data, node.left_child)\n",
        "    return node\n",
        "\n",
        "  def get_predecessor(self, node):\n",
        "        if node.right_child:\n",
        "            return self.get_predecessor(node.right_child)\n",
        "        \n",
        "        return node"
      ],
      "execution_count": 0,
      "outputs": []
    },
    {
      "cell_type": "code",
      "metadata": {
        "id": "QhP4ZCIlT-GA",
        "colab_type": "code",
        "colab": {}
      },
      "source": [
        "BST = BinarySearchTree()"
      ],
      "execution_count": 0,
      "outputs": []
    },
    {
      "cell_type": "code",
      "metadata": {
        "id": "q7s7yLqfUfbK",
        "colab_type": "code",
        "colab": {}
      },
      "source": [
        "nodes = [4, 2, -1, 8, 7, 5, 10, 9]\n",
        "for node in nodes:\n",
        "    BST.insert(node)"
      ],
      "execution_count": 0,
      "outputs": []
    },
    {
      "cell_type": "code",
      "metadata": {
        "id": "jMECP8a1UixW",
        "colab_type": "code",
        "colab": {
          "base_uri": "https://localhost:8080/",
          "height": 153
        },
        "outputId": "cbb63654-1231-4485-e70f-a2bb23c2b60f"
      },
      "source": [
        "BST.traverse()"
      ],
      "execution_count": 5,
      "outputs": [
        {
          "output_type": "stream",
          "text": [
            "-1\n",
            "2\n",
            "4\n",
            "5\n",
            "7\n",
            "8\n",
            "9\n",
            "10\n"
          ],
          "name": "stdout"
        }
      ]
    },
    {
      "cell_type": "code",
      "metadata": {
        "id": "x8GzYZxYUm3s",
        "colab_type": "code",
        "colab": {
          "base_uri": "https://localhost:8080/",
          "height": 34
        },
        "outputId": "541f242e-204c-495f-a65f-f65a0cafa6a3"
      },
      "source": [
        "print(BST.get_min_value())"
      ],
      "execution_count": 6,
      "outputs": [
        {
          "output_type": "stream",
          "text": [
            "-1\n"
          ],
          "name": "stdout"
        }
      ]
    },
    {
      "cell_type": "code",
      "metadata": {
        "id": "uXb8vUx2UsCJ",
        "colab_type": "code",
        "colab": {
          "base_uri": "https://localhost:8080/",
          "height": 34
        },
        "outputId": "0cb0e103-f460-47b7-cc9c-e074bd4f040f"
      },
      "source": [
        "print(BST.get_max_value())"
      ],
      "execution_count": 7,
      "outputs": [
        {
          "output_type": "stream",
          "text": [
            "10\n"
          ],
          "name": "stdout"
        }
      ]
    },
    {
      "cell_type": "code",
      "metadata": {
        "id": "XAxsX3y2UtX0",
        "colab_type": "code",
        "colab": {
          "base_uri": "https://localhost:8080/",
          "height": 68
        },
        "outputId": "56f3455e-8459-4f89-e5e9-acf9854341dd"
      },
      "source": [
        "BST.remove(4)"
      ],
      "execution_count": 8,
      "outputs": [
        {
          "output_type": "stream",
          "text": [
            "Removing node with two children\n",
            "removing a node with single left child\n"
          ],
          "name": "stdout"
        },
        {
          "output_type": "execute_result",
          "data": {
            "text/plain": [
              "<__main__.Node at 0x7fed1795a4a8>"
            ]
          },
          "metadata": {
            "tags": []
          },
          "execution_count": 8
        }
      ]
    },
    {
      "cell_type": "code",
      "metadata": {
        "id": "1pRhp3ddU02U",
        "colab_type": "code",
        "colab": {}
      },
      "source": [
        "Alpha_BST = BinarySearchTree()"
      ],
      "execution_count": 0,
      "outputs": []
    },
    {
      "cell_type": "code",
      "metadata": {
        "id": "Qyo0W5AQU36b",
        "colab_type": "code",
        "colab": {}
      },
      "source": [
        "Alpha_BST.insert(\"A\")\n",
        "Alpha_BST.insert(\"a\")\n",
        "Alpha_BST.insert(\"B\")\n",
        "Alpha_BST.insert(\"d\")\n",
        "Alpha_BST.insert(\"f\")\n",
        "Alpha_BST.insert(\"Z\")"
      ],
      "execution_count": 0,
      "outputs": []
    },
    {
      "cell_type": "code",
      "metadata": {
        "id": "Jk2lxr9UU8O0",
        "colab_type": "code",
        "colab": {
          "base_uri": "https://localhost:8080/",
          "height": 119
        },
        "outputId": "aeca6161-4665-43db-91d6-ba75cb3e8901"
      },
      "source": [
        "Alpha_BST.traverse()"
      ],
      "execution_count": 11,
      "outputs": [
        {
          "output_type": "stream",
          "text": [
            "A\n",
            "B\n",
            "Z\n",
            "a\n",
            "d\n",
            "f\n"
          ],
          "name": "stdout"
        }
      ]
    }
  ]
}