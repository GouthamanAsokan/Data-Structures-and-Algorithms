{
  "nbformat": 4,
  "nbformat_minor": 0,
  "metadata": {
    "colab": {
      "name": "Selection_Sort.ipynb",
      "provenance": [],
      "collapsed_sections": []
    },
    "kernelspec": {
      "name": "python3",
      "display_name": "Python 3"
    }
  },
  "cells": [
    {
      "cell_type": "code",
      "metadata": {
        "id": "9oyKsbAcRUpp",
        "colab_type": "code",
        "colab": {}
      },
      "source": [
        "def selection_sort(nums):\n",
        "  for i in range(len(nums)-1):\n",
        "    index=i\n",
        "    for j in range(i+1,len(nums),1):\n",
        "      if nums[j] < nums[i]:\n",
        "        index = j\n",
        "    if index!=i:\n",
        "      swap(nums,index,i)\n",
        "  return nums\n",
        "\n",
        "def swap(nums,i,j):\n",
        "  nums[i],nums[j]=nums[j],nums[i]"
      ],
      "execution_count": 0,
      "outputs": []
    },
    {
      "cell_type": "code",
      "metadata": {
        "id": "_9rrZ1egSxQ1",
        "colab_type": "code",
        "colab": {
          "base_uri": "https://localhost:8080/",
          "height": 34
        },
        "outputId": "0c4716d8-73bd-4ed0-a7de-2d1802d95010"
      },
      "source": [
        "nums = [5, 2, 1, 7, 6, 8, 8, 0]\n",
        "print(nums)"
      ],
      "execution_count": 2,
      "outputs": [
        {
          "output_type": "stream",
          "text": [
            "[5, 2, 1, 7, 6, 8, 8, 0]\n"
          ],
          "name": "stdout"
        }
      ]
    },
    {
      "cell_type": "code",
      "metadata": {
        "id": "ZOFTVoOITFQb",
        "colab_type": "code",
        "colab": {
          "base_uri": "https://localhost:8080/",
          "height": 34
        },
        "outputId": "a3fad6a5-82ff-498a-e2cf-4c70340614bb"
      },
      "source": [
        "print(selection_sort(nums))"
      ],
      "execution_count": 3,
      "outputs": [
        {
          "output_type": "stream",
          "text": [
            "[0, 1, 2, 5, 6, 7, 8, 8]\n"
          ],
          "name": "stdout"
        }
      ]
    }
  ]
}