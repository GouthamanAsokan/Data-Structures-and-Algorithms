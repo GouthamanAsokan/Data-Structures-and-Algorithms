{
  "nbformat": 4,
  "nbformat_minor": 0,
  "metadata": {
    "colab": {
      "name": "AVL_Trees.ipynb",
      "provenance": []
    },
    "kernelspec": {
      "name": "python3",
      "display_name": "Python 3"
    }
  },
  "cells": [
    {
      "cell_type": "code",
      "metadata": {
        "id": "8EXFxMa6ZphA",
        "colab_type": "code",
        "colab": {}
      },
      "source": [
        "class Node:\n",
        "  def __init__(self,data):\n",
        "    self.data=data\n",
        "    self.height=0\n",
        "    self.left_child=None\n",
        "    self.right_child=None"
      ],
      "execution_count": 0,
      "outputs": []
    },
    {
      "cell_type": "code",
      "metadata": {
        "id": "rjLYWy1kaD4M",
        "colab_type": "code",
        "colab": {}
      },
      "source": [
        "class AVL:\n",
        "  def __init__(self):\n",
        "    self.root=None\n",
        "\n",
        "  def calculate_height(self,node):\n",
        "    if not node:\n",
        "      return -1\n",
        "    return node.height\n",
        "\n",
        "  def calculate_balance(self,node):\n",
        "    if not node:\n",
        "      return 0\n",
        "    return self.calculate_height(node.left_child)-self.calculate_height(node.right_child)\n",
        "\n",
        "  def rotate_right(self,node):\n",
        "    print(f\"rotating to the right on the node {node.data}\")\n",
        "    temp_left_child=node.left_child\n",
        "    t=temp_left_child.right_child\n",
        "    temp_left_child.right_child=node\n",
        "    node.left_child=t\n",
        "    node.height = max(self.calculate_height(node.left_child), self.calculate_height(node.right_child)) + 1\n",
        "    temp_left_child.height = max(self.calculate_height(node.left_child), self.calculate_height(node.right_child)) + 1\n",
        "    return temp_left_child\n",
        "\n",
        "  def rotate_left(self,node):\n",
        "    print(f\"rotating to the left on the node {node.data}\")\n",
        "    temp_right_child=node.right_child\n",
        "    t=temp_right_child.left_child\n",
        "    temp_right_child.left_child=node\n",
        "    node.right_child=t\n",
        "    node.height = max(self.calculate_height(node.left_child), self.calculate_height(node.right_child)) + 1\n",
        "    temp_right_child.height = max(self.calculate_height(node.left_child), self.calculate_height(node.right_child)) + 1\n",
        "    return temp_right_child\n",
        "\n",
        "  def insert(self,data):\n",
        "    self.root=self.insert_node(data,self.root)\n",
        "\n",
        "  def insert_node(self,data,node):\n",
        "    if not node:\n",
        "      return Node(data)\n",
        "    elif data<node.data:\n",
        "      node.left_child = self.insert_node(data, node.left_child)\n",
        "    else:\n",
        "      node.right_child = self.insert_node(data, node.right_child)\n",
        "    node.height = max(self.calculate_height(node.left_child), self.calculate_height(node.right_child)) + 1\n",
        "    return self.settle_violations(data, node)\n",
        "\n",
        "  def settle_violations(self,data,node):\n",
        "    balance=self.calculate_balance(node)\n",
        "    #case 1:left left heavy situation\n",
        "    if balance>1 and data<node.left_child.data:\n",
        "      print(\"left left heavy situation\")\n",
        "      return self.rotate_right(node)\n",
        "    #case 2:right right heavy situation\n",
        "    if balance<-1 and data>node.right_child.data:\n",
        "      print(\"right right heavy situation\")\n",
        "      return self.rotate_left(node)\n",
        "    #case 3:left right heavy situation\n",
        "    if balance>1 and data>node.left_child.data:\n",
        "      print(\"left right heavy situation\")\n",
        "      node.left_child = self.rotate_left(node.left_child)\n",
        "      return self.rotate_right(node)\n",
        "    #case 4:right left heavy situation\n",
        "    if balance<-1 and data<node.right_child.data:\n",
        "      print(\"right left heavy situation\")\n",
        "      node.right_child = self.rotate_right(node.right_child)\n",
        "      return self.rotate_left(node)\n",
        "    return node\n",
        "\n",
        "  def traverse(self):\n",
        "        if self.root:\n",
        "            self.traverse_in_order(self.root)\n",
        "        \n",
        "  def traverse_in_order(self, node):\n",
        "        \n",
        "        if node.left_child:\n",
        "            self.traverse_in_order(node.left_child)\n",
        "            \n",
        "        print(f\"{node.data}\")\n",
        "        \n",
        "        if node.right_child:\n",
        "            self.traverse_in_order(node.right_child)\n",
        "    \n",
        "  def remove(self, data):\n",
        "        if self.root:\n",
        "            return self.remove_node(data, self.root)\n",
        "        \n",
        "  def remove_node(self, data, node):\n",
        "        if not node:\n",
        "            return node;\n",
        "        if data < node.data:\n",
        "            node.left_child = self.remove_node(data, node.left_child)\n",
        "        elif data > node.data:\n",
        "            node.right_child = self.remove_node(data, node.right_child)\n",
        "        else:\n",
        "            if not node.left_child and not node.right_child:\n",
        "                print(\"Removing a leaf node...\")\n",
        "                del node\n",
        "                return None\n",
        "            if not node.left_child:\n",
        "                print(\"Removing a node with single right child\")\n",
        "                temp_node = node.right_child\n",
        "                del node\n",
        "                return temp_node\n",
        "            elif not node.right_child:\n",
        "                print(\"Removing a node with single left child\")\n",
        "                temp_node = node.left_child\n",
        "                del node\n",
        "                return temp_node\n",
        "            \n",
        "            print(\"Removing node with two children...\")\n",
        "            temp_node = self.get_predecessor(node.left_child)\n",
        "            node.data = temp_node.data\n",
        "            node.left_child = self.remove_node(temp_node.data, node.left_child)\n",
        "        if not node:\n",
        "            return node\n",
        "        \n",
        "        node.height = max(self.calculate_height(node.left_child), self.calculate_height(node.right_child)) + 1\n",
        "        \n",
        "        balance = self.calculate_balance(node)\n",
        "        \n",
        "        # Doubly left heavy situation\n",
        "        if balance > 1 and self.calculate_balance(node.left_child) >= 0:\n",
        "            return self.rotate_right(node)\n",
        "        \n",
        "        # Left Right Case\n",
        "        if balance > 1 and self.calculate_balance(node.left_child) < 0:\n",
        "            node.left_child = self.rotate_left(node.left_child)\n",
        "            return self.rotate_right(node)\n",
        "        \n",
        "        # Right Right case\n",
        "        if balance < -1 and self.calculate_balance(node.right_child) <= 0:\n",
        "            return self.rotate_left(node)\n",
        "\n",
        "        # Right Left Case\n",
        "        if balance < -1 and self.calculate_balance(node.right_child) > 0:\n",
        "            node.right_child = self.rotate_right(node.right_child)\n",
        "            return self.rotate_left(node)\n",
        "        \n",
        "        return node\n",
        "        \n",
        "  def get_predecessor(self, node):\n",
        "        if node.right_child:\n",
        "            return self.get_predecessor(node.right_child)\n",
        "        \n",
        "        return node\n",
        "\n",
        "    \n",
        "\n",
        "\n",
        "  \n",
        "\n"
      ],
      "execution_count": 0,
      "outputs": []
    },
    {
      "cell_type": "code",
      "metadata": {
        "id": "z4IiF0Vmhpmh",
        "colab_type": "code",
        "colab": {}
      },
      "source": [
        "avl = AVL()"
      ],
      "execution_count": 0,
      "outputs": []
    },
    {
      "cell_type": "code",
      "metadata": {
        "id": "Z7F9FcyOhtZe",
        "colab_type": "code",
        "colab": {}
      },
      "source": [
        "avl.insert(1)"
      ],
      "execution_count": 0,
      "outputs": []
    },
    {
      "cell_type": "code",
      "metadata": {
        "id": "Di012iwfhvxd",
        "colab_type": "code",
        "colab": {}
      },
      "source": [
        "avl.insert(2)"
      ],
      "execution_count": 0,
      "outputs": []
    },
    {
      "cell_type": "code",
      "metadata": {
        "id": "1O4rhD40hyyD",
        "colab_type": "code",
        "colab": {
          "base_uri": "https://localhost:8080/",
          "height": 51
        },
        "outputId": "55b3faa7-ab07-4ffe-e451-3a3faabc370a"
      },
      "source": [
        "avl.insert(3)"
      ],
      "execution_count": 6,
      "outputs": [
        {
          "output_type": "stream",
          "text": [
            "right right heavy situation\n",
            "rotating to the left on the node 1\n"
          ],
          "name": "stdout"
        }
      ]
    },
    {
      "cell_type": "code",
      "metadata": {
        "id": "5zVgJhlAh1T1",
        "colab_type": "code",
        "colab": {}
      },
      "source": [
        "avl.insert(4)"
      ],
      "execution_count": 0,
      "outputs": []
    },
    {
      "cell_type": "code",
      "metadata": {
        "id": "jXwVOazlh3Tq",
        "colab_type": "code",
        "colab": {
          "base_uri": "https://localhost:8080/",
          "height": 51
        },
        "outputId": "29de2a75-3a4a-4c40-9159-a199c70ba5bd"
      },
      "source": [
        "avl.insert(5)"
      ],
      "execution_count": 8,
      "outputs": [
        {
          "output_type": "stream",
          "text": [
            "right right heavy situation\n",
            "rotating to the left on the node 3\n"
          ],
          "name": "stdout"
        }
      ]
    },
    {
      "cell_type": "code",
      "metadata": {
        "id": "lPY33OUyh5fy",
        "colab_type": "code",
        "colab": {
          "base_uri": "https://localhost:8080/",
          "height": 51
        },
        "outputId": "b54213eb-930a-4f31-884a-8b7d9099e199"
      },
      "source": [
        "avl.insert(6)"
      ],
      "execution_count": 9,
      "outputs": [
        {
          "output_type": "stream",
          "text": [
            "right right heavy situation\n",
            "rotating to the left on the node 2\n"
          ],
          "name": "stdout"
        }
      ]
    },
    {
      "cell_type": "code",
      "metadata": {
        "id": "xAt9U91Th8MK",
        "colab_type": "code",
        "colab": {
          "base_uri": "https://localhost:8080/",
          "height": 119
        },
        "outputId": "3bdc3913-e314-43e0-e6ee-1b283283c800"
      },
      "source": [
        "avl.traverse()"
      ],
      "execution_count": 10,
      "outputs": [
        {
          "output_type": "stream",
          "text": [
            "1\n",
            "2\n",
            "3\n",
            "4\n",
            "5\n",
            "6\n"
          ],
          "name": "stdout"
        }
      ]
    }
  ]
}