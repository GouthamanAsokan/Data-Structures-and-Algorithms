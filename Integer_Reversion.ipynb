{
  "nbformat": 4,
  "nbformat_minor": 0,
  "metadata": {
    "colab": {
      "name": "Integer_Reversion.ipynb",
      "provenance": []
    },
    "kernelspec": {
      "name": "python3",
      "display_name": "Python 3"
    }
  },
  "cells": [
    {
      "cell_type": "code",
      "metadata": {
        "id": "TL-XsH2EgMlk",
        "colab_type": "code",
        "colab": {}
      },
      "source": [
        "def reverse_integer(num):\n",
        "  reversed_n=0\n",
        "  remainder=0\n",
        "  while num>0:\n",
        "    remainder=num%10\n",
        "    num=num//10\n",
        "    print(num)\n",
        "    reversed_n=reversed_n*10+remainder\n",
        "  return reversed_n"
      ],
      "execution_count": 0,
      "outputs": []
    },
    {
      "cell_type": "code",
      "metadata": {
        "id": "ptLEq5g3g-w6",
        "colab_type": "code",
        "colab": {
          "base_uri": "https://localhost:8080/",
          "height": 119
        },
        "outputId": "550dadff-5b0a-490c-b350-49ebb5af9281"
      },
      "source": [
        "reverse_integer(12345)"
      ],
      "execution_count": 9,
      "outputs": [
        {
          "output_type": "stream",
          "text": [
            "1234\n",
            "123\n",
            "12\n",
            "1\n",
            "0\n"
          ],
          "name": "stdout"
        },
        {
          "output_type": "execute_result",
          "data": {
            "text/plain": [
              "54321"
            ]
          },
          "metadata": {
            "tags": []
          },
          "execution_count": 9
        }
      ]
    }
  ]
}