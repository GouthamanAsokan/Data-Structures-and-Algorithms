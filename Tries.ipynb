{
  "nbformat": 4,
  "nbformat_minor": 0,
  "metadata": {
    "colab": {
      "name": "Tries.ipynb",
      "provenance": []
    },
    "kernelspec": {
      "name": "python3",
      "display_name": "Python 3"
    }
  },
  "cells": [
    {
      "cell_type": "code",
      "metadata": {
        "id": "jZ4sRn1E6oSk",
        "colab_type": "code",
        "colab": {}
      },
      "source": [
        "class Node:\n",
        "  def __init__(self,char):\n",
        "    self.char=char\n",
        "    self.children={}\n",
        "    self.word_finished=False\n",
        "    self.counter=0"
      ],
      "execution_count": 0,
      "outputs": []
    },
    {
      "cell_type": "code",
      "metadata": {
        "id": "bIipakA87EnF",
        "colab_type": "code",
        "colab": {}
      },
      "source": [
        "class Trie:\n",
        "  def __init__(self):\n",
        "    self.root=Node('*')\n",
        "\n",
        "  def insert(self,word):\n",
        "    current=self.root\n",
        "    for char in word:\n",
        "      if char in current.children:\n",
        "        current=current.children[char]\n",
        "        current.counter+=1\n",
        "      else:\n",
        "        new_node=Node(char)\n",
        "        current.children[char]=new_node\n",
        "        current=new_node\n",
        "        current.counter+=1\n",
        "    current.word_finished = True\n",
        "\n",
        "  def search(self,word):\n",
        "    if not self.root.children:\n",
        "      return False\n",
        "    current = self.root\n",
        "    for char in word:\n",
        "      if char in current.children:\n",
        "         current = current.children[char]\n",
        "      else:\n",
        "        return False\n",
        "    if current.word_finished:\n",
        "      return True\n",
        "    return False\n"
      ],
      "execution_count": 0,
      "outputs": []
    },
    {
      "cell_type": "code",
      "metadata": {
        "id": "8biLcUbl8zCq",
        "colab_type": "code",
        "colab": {}
      },
      "source": [
        "tree = Trie()"
      ],
      "execution_count": 0,
      "outputs": []
    },
    {
      "cell_type": "code",
      "metadata": {
        "id": "OZVZgzgs82DV",
        "colab_type": "code",
        "colab": {}
      },
      "source": [
        "tree.insert('bat')\n",
        "tree.insert('hackathon')\n",
        "tree.insert('hack')\n",
        "tree.insert('hac')"
      ],
      "execution_count": 0,
      "outputs": []
    },
    {
      "cell_type": "code",
      "metadata": {
        "id": "zm2YXH_585X9",
        "colab_type": "code",
        "colab": {
          "base_uri": "https://localhost:8080/",
          "height": 34
        },
        "outputId": "239d04cf-9d76-4f59-9daf-7db5c97f8826"
      },
      "source": [
        "print(tree.search(\"hac\"))"
      ],
      "execution_count": 5,
      "outputs": [
        {
          "output_type": "stream",
          "text": [
            "True\n"
          ],
          "name": "stdout"
        }
      ]
    },
    {
      "cell_type": "code",
      "metadata": {
        "id": "KNhfljUu883z",
        "colab_type": "code",
        "colab": {
          "base_uri": "https://localhost:8080/",
          "height": 34
        },
        "outputId": "68922869-4eb3-4e4d-a8c3-fe74143b8e1e"
      },
      "source": [
        "print(tree.search(\"ha\"))"
      ],
      "execution_count": 6,
      "outputs": [
        {
          "output_type": "stream",
          "text": [
            "False\n"
          ],
          "name": "stdout"
        }
      ]
    },
    {
      "cell_type": "code",
      "metadata": {
        "id": "biSEUZ4W9ABt",
        "colab_type": "code",
        "colab": {
          "base_uri": "https://localhost:8080/",
          "height": 34
        },
        "outputId": "21d2ede1-c15a-47a3-a8d8-72e8ec6d949a"
      },
      "source": [
        "print(tree.search(\"hackathon\"))"
      ],
      "execution_count": 7,
      "outputs": [
        {
          "output_type": "stream",
          "text": [
            "True\n"
          ],
          "name": "stdout"
        }
      ]
    },
    {
      "cell_type": "code",
      "metadata": {
        "id": "x8Q_r5El9Dgl",
        "colab_type": "code",
        "colab": {
          "base_uri": "https://localhost:8080/",
          "height": 34
        },
        "outputId": "17e9b796-5f10-4e9e-aa1d-2b364419e159"
      },
      "source": [
        "print(tree.search(\"bat\"))"
      ],
      "execution_count": 8,
      "outputs": [
        {
          "output_type": "stream",
          "text": [
            "True\n"
          ],
          "name": "stdout"
        }
      ]
    }
  ]
}